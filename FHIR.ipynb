{
 "cells": [
  {
   "cell_type": "code",
   "execution_count": 1,
   "metadata": {},
   "outputs": [],
   "source": [
    "import re\n",
    "import sqlalchemy\n",
    "from sqlalchemy.sql import text\n",
    "import pandas as pd\n",
    "import numpy as np"
   ]
  },
  {
   "cell_type": "code",
   "execution_count": 2,
   "metadata": {},
   "outputs": [],
   "source": [
    "tracked_icd10s = [\n",
    "    \"T560\",\n",
    "    \"J628\",\n",
    "    \"J610\",\n",
    "    \"J920\",\n",
    "    \"C450\",\n",
    "    \"C451\",\n",
    "    \"C452\",\n",
    "    \"C457\",\n",
    "    \"C459\",\n",
    "    \"T600\",\n",
    "    \"T601\",\n",
    "    \"T602\",\n",
    "    \"T603\",\n",
    "    \"T604\",\n",
    "    \"T608\",\n",
    "    \"T609\",\n",
    "    \"T560\",\n",
    "    \"J441\",\n",
    "    \"๋J450\",\n",
    "    \"I450\",\n",
    "    \"I240\",\n",
    "    \"I220\",\n",
    "    \"I223\",\n",
    "    \"T561\",\n",
    "    \"T562\",\n",
    "    \"T563\",\n",
    "    \"T564\",\n",
    "    \"T565\",\n",
    "    \"T566\",\n",
    "    \"T567\",\n",
    "    \"T568\",\n",
    "    \"T569\",\n",
    "    \"H833\",\n",
    "    \"H903\",\n",
    "    \"H904\",\n",
    "    \"H905\",\n",
    "    \"T520\",\n",
    "    \"T521\",\n",
    "    \"T522\",\n",
    "    \"T523\",\n",
    "    \"T524\",\n",
    "    \"T528\",\n",
    "    \"T529\",\n",
    "    \"G560\",\n",
    "    \"Y960\",\n",
    "    \"T670\",\n",
    "    \"T671\",\n",
    "    \"T672\",\n",
    "    \"T673\",\n",
    "    \"T674\",\n",
    "    \"T675\",\n",
    "    \"T676\",\n",
    "    \"T677\",\n",
    "    \"T678\",\n",
    "    \"T679\",\n",
    "    \"J450\",\n",
    "    ]"
   ]
  },
  {
   "cell_type": "code",
   "execution_count": 3,
   "metadata": {},
   "outputs": [],
   "source": [
    "username = \"creep\" \n",
    "password = \"fvmgv\"\n",
    "address = \"192.168.5.4\"\n",
    "port = \"3306\"\n",
    "database_name = \"hos\"\n",
    "url = f\"mysql+mysqlconnector://{username}:{password}@{address}:{port}/{database_name}\"\n",
    "engine = sqlalchemy.create_engine(url)"
   ]
  },
  {
   "cell_type": "code",
   "execution_count": 4,
   "metadata": {},
   "outputs": [],
   "source": [
    "def call_database(sql):\n",
    "    with engine.connect().execution_options(autocommit=False) as conn:\n",
    "        query = conn.execute(text(sql))\n",
    "        df = pd.DataFrame(query.fetchall())\n",
    "        return df\n",
    "\n",
    "def finder(visit_date:str, icd10s:list[str]):\n",
    "    joined_icd10 = \",\".join([f\"\\\"{icd10}\\\"\" for icd10 in icd10s])\n",
    "    main_query = f'''\n",
    "    select  PA.pname,PA.fname,PA.lname,PA.birthday,PA.sex,OV.hn,OV.vn,OV.vstdate,OV.diagtype,OV.doctor,PT.name,OV.icd10,I1.name from hos.ovstdiag AS OV\n",
    "    left join hos.patient as PA\n",
    "    on PA.hn = OV.hn\n",
    "    left join hos.vn_stat as VS\n",
    "    on VS.vn = OV.vn\n",
    "    left join hos.pttype as PT\n",
    "    on VS.pttype = PT.pttype\n",
    "    inner join hos.icd101 as I1\n",
    "    on OV.icd10 = I1.code\n",
    "    where icd10 in ({joined_icd10}) AND OV.vstdate >= \"{visit_date}\"\n",
    "    '''\n",
    "    return call_database(main_query)"
   ]
  },
  {
   "cell_type": "code",
   "execution_count": 5,
   "metadata": {},
   "outputs": [],
   "source": [
    "data = finder(\"2022-02-09\", tracked_icd10s)"
   ]
  },
  {
   "cell_type": "code",
   "execution_count": 58,
   "metadata": {},
   "outputs": [
    {
     "data": {
      "text/plain": [
       "'{\"resourceType\": \"Patient\", \"id\": \"cid-1234\", \"identifier\": [{\"system\": \"https://dopa.go.th\", \"value\": \"123456F\"}], \"name\": [{\"use\": \"official\", \"text\": \"a family\", \"family\": \"family\", \"given\": [\"a\"]}]}'"
      ]
     },
     "execution_count": 58,
     "metadata": {},
     "output_type": "execute_result"
    }
   ],
   "source": [
    "from fhir.resources.fhirtypes import String, Id, HumanNameType, IdentifierType\n",
    "from fhir.resources.identifier import Identifier\n",
    "from fhir.resources.patient import Patient\n",
    "from fhir.resources.encounter import Encounter\n",
    "\n",
    "p = Patient.construct()\n",
    "p.name = [HumanNameType(use=\"official\", family=\"family\",\n",
    "                        given=[\"a\"], text=\"a family\")]\n",
    "p.identifier = [IdentifierType(system=\"https://dopa.go.th\", value=\"123456F\")]\n",
    "p.id = Id(f\"cid-{1234}\")\n",
    "p.json()\n",
    "e = Encounter.construct()\n",
    "# p.name = []\n"
   ]
  },
  {
   "cell_type": "code",
   "execution_count": null,
   "metadata": {},
   "outputs": [],
   "source": []
  }
 ],
 "metadata": {
  "kernelspec": {
   "display_name": ".venv",
   "language": "python",
   "name": "python3"
  },
  "language_info": {
   "codemirror_mode": {
    "name": "ipython",
    "version": 3
   },
   "file_extension": ".py",
   "mimetype": "text/x-python",
   "name": "python",
   "nbconvert_exporter": "python",
   "pygments_lexer": "ipython3",
   "version": "3.11.1"
  },
  "orig_nbformat": 4,
  "vscode": {
   "interpreter": {
    "hash": "a9697bd85cda994ff6d8e6030607e7ffd5498465e32018032ea4992d35fc4f77"
   }
  }
 },
 "nbformat": 4,
 "nbformat_minor": 2
}
